{
 "cells": [
  {
   "cell_type": "markdown",
   "metadata": {
    "slideshow": {
     "slide_type": "slide"
    }
   },
   "source": [
    "# Exploratory Data Analysis (EDA)\n",
    "\n",
    "### Today we will focus on how to...\n",
    "- load data\n",
    "- analyze individual attributes\n",
    "- analyze the relationships between attributes\n",
    "- visualize data (suitable types of visualizations, properties of good visualizations, how not to deceive with visualization)\n",
    "\n",
    "### Before we start analyzing the data, we should be clear...\n",
    "- What questions should we answer with the analysis?\n",
    "- What task do we have to solve?\n",
    "\n",
    "### In this subject, we will deal with ML only with two tasks\n",
    "- Classification\n",
    "- Regression\n",
    "\n",
    "### In both cases, we try to find the function $f$ of the attributes $X$, which will predict the value of the dependent variable $Y$\n",
    "- In case of regression 𝑌∈𝑅\n",
    "- In case of classification 𝑌∈{𝐶1,𝐶2,…,𝐶𝑁}\n",
    "\n",
    "Both tasks are an example of **supervised learning**"
   ]
  },
  {
   "cell_type": "markdown",
   "metadata": {
    "slideshow": {
     "slide_type": "slide"
    }
   },
   "source": [
    "# Let's try to load the data :)"
   ]
  },
  {
   "cell_type": "code",
   "execution_count": null,
   "metadata": {
    "slideshow": {
     "slide_type": "skip"
    }
   },
   "outputs": [],
   "source": [
    "%matplotlib inline\n",
    "import pandas as pd\n",
    "import numpy as np\n",
    "import matplotlib.pyplot as plt\n",
    "import seaborn as sns\n",
    "import scipy.stats as stats"
   ]
  },
  {
   "cell_type": "code",
   "execution_count": null,
   "metadata": {
    "scrolled": true,
    "slideshow": {
     "slide_type": "fragment"
    }
   },
   "outputs": [],
   "source": [
    "data = pd.read_csv(\"data/airbase/BETR8010000800100hour.1-1-1990.31-12-2012\")\n",
    "data.head()"
   ]
  },
  {
   "cell_type": "markdown",
   "metadata": {
    "slideshow": {
     "slide_type": "notes"
    }
   },
   "source": [
    "We can see that several problems occurred during loading - all data ended up in one column, and in addition, the first line was automatically interpreted as a header."
   ]
  },
  {
   "cell_type": "markdown",
   "metadata": {
    "slideshow": {
     "slide_type": "slide"
    }
   },
   "source": [
    "### Let's try to look at the data in some editor (console) before we load it"
   ]
  },
  {
   "cell_type": "code",
   "execution_count": null,
   "metadata": {
    "slideshow": {
     "slide_type": "fragment"
    }
   },
   "outputs": [],
   "source": [
    "%%bash\n",
    "head data/airbase/BETR8010000800100hour.1-1-1990.31-12-2012"
   ]
  },
  {
   "cell_type": "markdown",
   "metadata": {
    "slideshow": {
     "slide_type": "slide"
    }
   },
   "source": [
    "## Now we know how to load data better - before loading data we should ask ourselves:\n",
    "\n",
    "* Where does the data come from? Who created it?\n",
    "* In what format is it represented?\n",
    "* How much data is there?\n",
    "* Is the interpretation of individual columns available somewhere?"
   ]
  },
  {
   "cell_type": "code",
   "execution_count": null,
   "metadata": {
    "slideshow": {
     "slide_type": "fragment"
    }
   },
   "outputs": [],
   "source": [
    "filename = \"data/airbase/BETR8010000800100hour.1-1-1990.31-12-2012\"\n",
    "\n",
    "data = pd.read_csv(filename, sep='\\t', header=None,\n",
    "                   na_values=[-999, -9999], index_col=0)\n",
    "data.head()"
   ]
  },
  {
   "cell_type": "markdown",
   "metadata": {
    "slideshow": {
     "slide_type": "slide"
    }
   },
   "source": [
    "# We can get down to exploratory analysis (EDA) \n",
    "\n",
    "- Describe the data together with its characteristics = **Descriptive statistics**\n",
    "- Formulate and verify data hypotheses = **Data visualization** + inferential statistics\n",
    "- Identify relationships between attributes = **Dependencies** (e.g. correlations)\n",
    "- Identify problems in the data = What we will have to solve as part of preprocessing\n",
    "\n",
    "## Possible problems in the data\n",
    "\n",
    "* inappropriate data structure (data is not in tabular form or one entity is described by several rows of the table)\n",
    "* duplicate records, or ambiguous mapping between records\n",
    "* inconsistent data formats\n",
    "* missing values\n",
    "* deviated (outlier) values ​​(English *outliers*)\n",
    "* and more"
   ]
  },
  {
   "cell_type": "code",
   "execution_count": 1,
   "metadata": {},
   "outputs": [],
   "source": [
    "# Your code"
   ]
  },
  {
   "cell_type": "markdown",
   "metadata": {
    "slideshow": {
     "slide_type": "slide"
    }
   },
   "source": [
    "# Visualizations help us understand the data\n",
    "**If they are done well...**"
   ]
  }
 ],
 "metadata": {
  "kernelspec": {
   "display_name": "Python 3 (ipykernel)",
   "language": "python",
   "name": "python3"
  },
  "language_info": {
   "codemirror_mode": {
    "name": "ipython",
    "version": 3
   },
   "file_extension": ".py",
   "mimetype": "text/x-python",
   "name": "python",
   "nbconvert_exporter": "python",
   "pygments_lexer": "ipython3",
   "version": "3.9.18"
  }
 },
 "nbformat": 4,
 "nbformat_minor": 4
}
